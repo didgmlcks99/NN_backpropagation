{
 "cells": [
  {
   "cell_type": "code",
   "execution_count": 1,
   "metadata": {},
   "outputs": [],
   "source": [
    "import pandas as pd\n",
    "import numpy as np\n",
    "import import_ipynb"
   ]
  },
  {
   "cell_type": "code",
   "execution_count": 2,
   "metadata": {},
   "outputs": [],
   "source": [
    "# train_neg = pd.read_csv('data/train.negative.csv', quotechar=None, quoting=3, sep='\\t', header=None)\n",
    "# train_non = pd.read_csv('data/train.non-negative.csv', quotechar=None, quoting=3, sep='\\t', header=None)\n",
    "\n",
    "# test_neg = pd.read_csv('data/test.negative.csv', quotechar=None, quoting=3, sep='\\t', header=None)\n",
    "# test_non = pd.read_csv('data/test.non-negative.csv', quotechar=None, quoting=3, sep='\\t', header=None)"
   ]
  },
  {
   "cell_type": "code",
   "execution_count": 3,
   "metadata": {},
   "outputs": [],
   "source": [
    "# train_neg.head()"
   ]
  },
  {
   "cell_type": "code",
   "execution_count": 4,
   "metadata": {},
   "outputs": [],
   "source": [
    "# import common_my_NLP"
   ]
  },
  {
   "cell_type": "code",
   "execution_count": 5,
   "metadata": {},
   "outputs": [],
   "source": [
    "# train_neg[0] = train_neg[0].apply(lambda x: my_NLP.remove_html(x))\n",
    "# train_non[0] = train_non[0].apply(lambda x: my_NLP.remove_html(x))\n",
    "\n",
    "# test_neg[0] = test_neg[0].apply(lambda x: my_NLP.remove_html(x))\n",
    "# test_non[0] = test_non[0].apply(lambda x: my_NLP.remove_html(x))"
   ]
  },
  {
   "cell_type": "code",
   "execution_count": 6,
   "metadata": {},
   "outputs": [],
   "source": [
    "# train_neg[0] = train_neg[0].apply(lambda x: common_my_NLP.remove_punctuation(x))\n",
    "# train_non[0] = train_non[0].apply(lambda x: common_my_NLP.remove_punctuation(x))\n",
    "\n",
    "# test_neg[0] = test_neg[0].apply(lambda x: common_my_NLP.remove_punctuation(x))\n",
    "# test_non[0] = test_non[0].apply(lambda x: common_my_NLP.remove_punctuation(x))"
   ]
  },
  {
   "cell_type": "code",
   "execution_count": 7,
   "metadata": {},
   "outputs": [],
   "source": [
    "# train_neg[0] = train_neg[0].apply(lambda x: x.lower())\n",
    "# train_non[0] = train_non[0].apply(lambda x: x.lower())\n",
    "\n",
    "# test_neg[0] = test_neg[0].apply(lambda x: x.lower())\n",
    "# test_non[0] = test_non[0].apply(lambda x: x.lower())"
   ]
  },
  {
   "cell_type": "code",
   "execution_count": 8,
   "metadata": {},
   "outputs": [],
   "source": [
    "# import spacy\n",
    "# nlp = spacy.load('en_core_web_sm')"
   ]
  },
  {
   "cell_type": "code",
   "execution_count": 9,
   "metadata": {},
   "outputs": [],
   "source": [
    "# tok_lem_sentence_train_neg = [[token.lemma_ for token in nlp(row[0].strip())] for index, row in train_neg.iterrows()]\n",
    "# tok_lem_sentence_train_non = [[token.lemma_ for token in nlp(row[0].strip())] for index, row in train_non.iterrows()]\n",
    "\n",
    "# tok_lem_sentence_test_neg = [[token.lemma_ for token in nlp(row[0].strip())] for index, row in test_neg.iterrows()]\n",
    "# tok_lem_sentence_test_non = [[token.lemma_ for token in nlp(row[0].strip())] for index, row in test_non.iterrows()]"
   ]
  },
  {
   "cell_type": "code",
   "execution_count": 10,
   "metadata": {},
   "outputs": [],
   "source": [
    "# tok_lem_sentence_train_neg[0]"
   ]
  },
  {
   "cell_type": "code",
   "execution_count": 11,
   "metadata": {},
   "outputs": [],
   "source": [
    "# from nltk.corpus import stopwords\n",
    "# stop_words = set(stopwords.words('english'))  "
   ]
  },
  {
   "cell_type": "code",
   "execution_count": 12,
   "metadata": {},
   "outputs": [],
   "source": [
    "# rmv_sw_sentence_train_neg = [ [word for word in sentence if not word in stop_words and word != ' '] for sentence in tok_lem_sentence_train_neg]\n",
    "# rmv_sw_sentence_train_non = [ [word for word in sentence if not word in stop_words and word != ' '] for sentence in tok_lem_sentence_train_non]\n",
    "\n",
    "# rmv_sw_sentence_test_neg = [ [word for word in sentence if not word in stop_words and word != ' '] for sentence in tok_lem_sentence_test_neg]\n",
    "# rmv_sw_sentence_test_non = [ [word for word in sentence if not word in stop_words and word != ' '] for sentence in tok_lem_sentence_test_non]"
   ]
  },
  {
   "cell_type": "code",
   "execution_count": 13,
   "metadata": {},
   "outputs": [],
   "source": [
    "# rmv_sw_sentence_test_neg[0]"
   ]
  },
  {
   "cell_type": "code",
   "execution_count": 14,
   "metadata": {},
   "outputs": [],
   "source": [
    "# def make_frequency_dict(dictionary, neg_sentences, non_sentences):\n",
    "#     # idx = 0\n",
    "\n",
    "#     for sentence in neg_sentences:\n",
    "#         for word in sentence:\n",
    "            \n",
    "#             if word not in dictionary:\n",
    "#                 dictionary[word] = 0\n",
    "#                 # idx += 1\n",
    "            \n",
    "#             dictionary[word] += 1\n",
    "    \n",
    "#     for sentence in non_sentences:\n",
    "#         for word in sentence:\n",
    "            \n",
    "#             if word not in dictionary:\n",
    "#                 dictionary[word] = 0\n",
    "#                 # idx += 1\n",
    "            \n",
    "#             dictionary[word] += 1"
   ]
  },
  {
   "cell_type": "code",
   "execution_count": 15,
   "metadata": {},
   "outputs": [],
   "source": [
    "# def make_idx_dict(dictionary, neg_sentences, non_sentences):\n",
    "#     idx = 0\n",
    "\n",
    "#     for sentence in neg_sentences:\n",
    "#         for word in sentence:\n",
    "            \n",
    "#             if word not in dictionary:\n",
    "#                 dictionary[word] = idx\n",
    "#                 idx += 1\n",
    "            \n",
    "#             # dictionary[word] += 1\n",
    "    \n",
    "#     for sentence in non_sentences:\n",
    "#         for word in sentence:\n",
    "            \n",
    "#             if word not in dictionary:\n",
    "#                 dictionary[word] = idx\n",
    "#                 idx += 1\n",
    "            \n",
    "#             # dictionary[word] += 1"
   ]
  },
  {
   "cell_type": "code",
   "execution_count": 16,
   "metadata": {},
   "outputs": [],
   "source": [
    "# dictionary = {}\n",
    "# make_frequency_dict(dictionary, rmv_sw_sentence_train_neg, rmv_sw_sentence_train_non)\n",
    "# # make_idx_dict(dictionary, rmv_sw_sentence_train_neg, rmv_sw_sentence_train_non)"
   ]
  },
  {
   "cell_type": "code",
   "execution_count": 17,
   "metadata": {},
   "outputs": [],
   "source": [
    "# dictionary"
   ]
  },
  {
   "cell_type": "code",
   "execution_count": 18,
   "metadata": {},
   "outputs": [],
   "source": [
    "# a = list(dictionary.keys())\n",
    "# print(len(a))\n",
    "# print(a[-5:])\n",
    "# for word in a[-5:]:\n",
    "#     print(dictionary[word])"
   ]
  },
  {
   "cell_type": "code",
   "execution_count": 19,
   "metadata": {},
   "outputs": [],
   "source": [
    "# sorted_dict = sorted(dictionary.items(), key=lambda x:x[1], reverse = True)"
   ]
  },
  {
   "cell_type": "code",
   "execution_count": 20,
   "metadata": {},
   "outputs": [],
   "source": [
    "# def rmv_frequency_dict(dictionary, low_bound):\n",
    "#     rmv_list = []\n",
    "#     for key, value in dictionary.items():\n",
    "#         if value <= low_bound:\n",
    "#             rmv_list.append(key)\n",
    "    \n",
    "#     for word in rmv_list:\n",
    "#         dictionary.pop(word)"
   ]
  },
  {
   "cell_type": "code",
   "execution_count": 21,
   "metadata": {},
   "outputs": [],
   "source": [
    "# rmv_frequency_dict(dictionary, 3)"
   ]
  },
  {
   "cell_type": "code",
   "execution_count": 22,
   "metadata": {},
   "outputs": [],
   "source": [
    "# dictionary"
   ]
  },
  {
   "cell_type": "code",
   "execution_count": 23,
   "metadata": {},
   "outputs": [],
   "source": [
    "# def idx_dictionary(dictionary):\n",
    "#     idx = 0\n",
    "\n",
    "#     for key, value in dictionary.items():\n",
    "#         dictionary[key] = idx\n",
    "#         idx += 1"
   ]
  },
  {
   "cell_type": "code",
   "execution_count": 24,
   "metadata": {},
   "outputs": [],
   "source": [
    "# idx_dictionary(dictionary)"
   ]
  },
  {
   "cell_type": "code",
   "execution_count": 25,
   "metadata": {},
   "outputs": [],
   "source": [
    "# dictionary"
   ]
  },
  {
   "cell_type": "code",
   "execution_count": 26,
   "metadata": {},
   "outputs": [],
   "source": [
    "# train_neg_len = len(rmv_sw_sentence_train_neg)\n",
    "# train_non_len = (len(rmv_sw_sentence_train_non)*2)-124\n",
    "\n",
    "# test_neg_len = len(rmv_sw_sentence_test_neg)\n",
    "# test_non_len = len(rmv_sw_sentence_test_non)\n",
    "\n",
    "# train_row_len = (train_neg_len + train_non_len)\n",
    "# test_row_len = (test_neg_len + test_non_len)\n",
    "# col_len = len(dictionary)\n",
    "\n",
    "# train_x = np.zeros((train_row_len, col_len))\n",
    "# test_x = np.zeros((test_row_len, col_len))"
   ]
  },
  {
   "cell_type": "code",
   "execution_count": 27,
   "metadata": {},
   "outputs": [],
   "source": [
    "# train_x.shape"
   ]
  },
  {
   "cell_type": "code",
   "execution_count": 28,
   "metadata": {},
   "outputs": [],
   "source": [
    "# idx = 0\n",
    "\n",
    "# for sentence in rmv_sw_sentence_train_neg:\n",
    "#     for word in sentence:\n",
    "#         if word in dictionary:\n",
    "#             place = dictionary[word]\n",
    "#             train_x[idx][place] = 1\n",
    "#     idx += 1\n",
    "\n",
    "# for sentence in rmv_sw_sentence_train_non:\n",
    "#     for word in sentence:\n",
    "#         if word in dictionary:\n",
    "#             place = dictionary[word]\n",
    "#             train_x[idx][place] = 1\n",
    "#     idx += 1\n",
    "\n",
    "# for sentence in rmv_sw_sentence_train_non[:-124]:\n",
    "#     for word in sentence:\n",
    "#         if word in dictionary:\n",
    "#             place = dictionary[word]\n",
    "#             train_x[idx][place] = 1\n",
    "#     idx += 1"
   ]
  },
  {
   "cell_type": "code",
   "execution_count": 29,
   "metadata": {},
   "outputs": [],
   "source": [
    "# idx = 0\n",
    "\n",
    "# for sentence in rmv_sw_sentence_test_neg:\n",
    "#     for word in sentence:\n",
    "#         if word in dictionary:\n",
    "#             place = dictionary[word]\n",
    "#             test_x[idx][place] = 1\n",
    "#     idx += 1\n",
    "\n",
    "# for sentence in rmv_sw_sentence_test_non:\n",
    "#     for word in sentence:\n",
    "#         if word in dictionary:\n",
    "#             place = dictionary[word]\n",
    "#             test_x[idx][place] = 1\n",
    "#     idx += 1"
   ]
  },
  {
   "cell_type": "code",
   "execution_count": 30,
   "metadata": {},
   "outputs": [],
   "source": [
    "# train_y_non_set = np.ones((train_neg_len, 1))\n",
    "# train_y_non_unset = np.zeros((train_neg_len, 1))\n",
    "# train_y_neg_unset = np.zeros((train_non_len, 1))\n",
    "# train_y_neg_set = np.ones((train_non_len, 1))\n",
    "\n",
    "# tmp_train_y_non = np.concatenate((train_y_non_set, train_y_non_unset), axis=1)\n",
    "# tmp_train_y_neg = np.concatenate((train_y_neg_unset, train_y_neg_set), axis=1)\n",
    "\n",
    "# test_y_non_set = np.ones((test_neg_len, 1))\n",
    "# test_y_non_unset = np.zeros((test_neg_len, 1))\n",
    "# test_y_neg_unset = np.zeros((test_non_len, 1))\n",
    "# test_y_neg_set = np.ones((test_non_len, 1))\n",
    "\n",
    "# tmp_test_y_non = np.concatenate((test_y_non_set, test_y_non_unset), axis=1)\n",
    "# tmp_test_y_neg = np.concatenate((test_y_neg_unset, test_y_neg_set), axis=1)\n",
    "\n",
    "# print(tmp_train_y_non.shape, tmp_train_y_neg.shape)\n",
    "# print(tmp_test_y_non.shape, tmp_test_y_neg.shape)"
   ]
  },
  {
   "cell_type": "code",
   "execution_count": 31,
   "metadata": {},
   "outputs": [],
   "source": [
    "# train_y = np.concatenate((tmp_train_y_non, tmp_train_y_neg), axis=0)\n",
    "# test_y = np.concatenate((tmp_test_y_non, tmp_test_y_neg), axis=0)\n",
    "\n",
    "# print(train_y.shape, test_y.shape)"
   ]
  },
  {
   "cell_type": "code",
   "execution_count": 32,
   "metadata": {},
   "outputs": [],
   "source": [
    "# print(train_x.shape, train_y.shape)\n",
    "# print(test_x.shape, test_y.shape)"
   ]
  },
  {
   "cell_type": "code",
   "execution_count": 33,
   "metadata": {},
   "outputs": [
    {
     "name": "stdout",
     "output_type": "stream",
     "text": [
      "importing Jupyter notebook from tweet_data.ipynb\n",
      "importing Jupyter notebook from common_my_NLP.ipynb\n"
     ]
    }
   ],
   "source": [
    "import tweet_data"
   ]
  },
  {
   "cell_type": "code",
   "execution_count": 34,
   "metadata": {},
   "outputs": [],
   "source": [
    "train_x, train_y, test_x, test_y = tweet_data.get_data()"
   ]
  },
  {
   "cell_type": "code",
   "execution_count": 35,
   "metadata": {},
   "outputs": [
    {
     "name": "stdout",
     "output_type": "stream",
     "text": [
      "(20000, 2955) (20000, 2)\n",
      "(200, 2955) (200, 2)\n"
     ]
    }
   ],
   "source": [
    "print(train_x.shape, train_y.shape)\n",
    "print(test_x.shape, test_y.shape)"
   ]
  },
  {
   "cell_type": "code",
   "execution_count": 36,
   "metadata": {},
   "outputs": [
    {
     "name": "stdout",
     "output_type": "stream",
     "text": [
      "importing Jupyter notebook from two_layer_net.ipynb\n",
      "importing Jupyter notebook from common_layers.ipynb\n",
      "importing Jupyter notebook from common_functions.ipynb\n",
      "importing Jupyter notebook from common_util.ipynb\n",
      "importing Jupyter notebook from common_gradient.ipynb\n"
     ]
    }
   ],
   "source": [
    "from two_layer_net import TwoLayerNet\n",
    "import matplotlib.pyplot as plt"
   ]
  },
  {
   "cell_type": "code",
   "execution_count": null,
   "metadata": {},
   "outputs": [],
   "source": [
    "import common_optimizer import *"
   ]
  },
  {
   "cell_type": "code",
   "execution_count": 37,
   "metadata": {},
   "outputs": [],
   "source": [
    "network = TwoLayerNet(input_size=train_x.shape[1], hidden_size=50, output_size=2)"
   ]
  },
  {
   "cell_type": "code",
   "execution_count": 38,
   "metadata": {},
   "outputs": [],
   "source": [
    "iters_num = 10000\n",
    "train_size = train_x.shape[0]\n",
    "batch_size = 100\n",
    "learning_rate = 0.1\n",
    "\n",
    "train_loss_list = []\n",
    "train_acc_list = []\n",
    "test_acc_list = []\n",
    "\n",
    "iter_per_epoch = max(train_size / batch_size, 1)\n"
   ]
  },
  {
   "cell_type": "code",
   "execution_count": 39,
   "metadata": {},
   "outputs": [
    {
     "name": "stdout",
     "output_type": "stream",
     "text": [
      "train acc, test acc | 0.5466, 0.5\n",
      "train acc, test acc | 0.5476, 0.5\n",
      "train acc, test acc | 0.75785, 0.76\n",
      "train acc, test acc | 0.78865, 0.785\n",
      "train acc, test acc | 0.8182, 0.815\n",
      "train acc, test acc | 0.83075, 0.815\n",
      "train acc, test acc | 0.8402, 0.8\n",
      "train acc, test acc | 0.84515, 0.825\n",
      "train acc, test acc | 0.84975, 0.8\n",
      "train acc, test acc | 0.8547, 0.815\n",
      "train acc, test acc | 0.86125, 0.815\n",
      "train acc, test acc | 0.85445, 0.835\n",
      "train acc, test acc | 0.86845, 0.795\n",
      "train acc, test acc | 0.872, 0.805\n",
      "train acc, test acc | 0.8716, 0.81\n",
      "train acc, test acc | 0.87675, 0.81\n",
      "train acc, test acc | 0.8784, 0.81\n",
      "train acc, test acc | 0.86995, 0.805\n",
      "train acc, test acc | 0.8844, 0.805\n",
      "train acc, test acc | 0.88015, 0.825\n",
      "train acc, test acc | 0.8875, 0.805\n",
      "train acc, test acc | 0.8859, 0.82\n",
      "train acc, test acc | 0.8868, 0.825\n",
      "train acc, test acc | 0.89225, 0.825\n",
      "train acc, test acc | 0.89285, 0.805\n",
      "train acc, test acc | 0.8967, 0.82\n",
      "train acc, test acc | 0.8994, 0.805\n",
      "train acc, test acc | 0.903, 0.805\n",
      "train acc, test acc | 0.9027, 0.78\n",
      "train acc, test acc | 0.9041, 0.785\n",
      "train acc, test acc | 0.90795, 0.805\n",
      "train acc, test acc | 0.9131, 0.8\n",
      "train acc, test acc | 0.91445, 0.79\n",
      "train acc, test acc | 0.9094, 0.81\n",
      "train acc, test acc | 0.9183, 0.81\n",
      "train acc, test acc | 0.9209, 0.815\n",
      "train acc, test acc | 0.9251, 0.79\n",
      "train acc, test acc | 0.9292, 0.795\n",
      "train acc, test acc | 0.93035, 0.795\n",
      "train acc, test acc | 0.9294, 0.795\n",
      "train acc, test acc | 0.9353, 0.795\n",
      "train acc, test acc | 0.9383, 0.805\n",
      "train acc, test acc | 0.9333, 0.795\n",
      "train acc, test acc | 0.9401, 0.785\n",
      "train acc, test acc | 0.9486, 0.79\n",
      "train acc, test acc | 0.95305, 0.785\n",
      "train acc, test acc | 0.95305, 0.795\n",
      "train acc, test acc | 0.9565, 0.79\n",
      "train acc, test acc | 0.9619, 0.775\n",
      "train acc, test acc | 0.96215, 0.78\n"
     ]
    }
   ],
   "source": [
    "for i in range(iters_num):\n",
    "    batch_mask = np.random.choice(train_size, batch_size)\n",
    "    x_batch = train_x[batch_mask]\n",
    "    t_batch = train_y[batch_mask]\n",
    "\n",
    "    #grad = network.numerical_gradient(x_batch, t_batch)\n",
    "    grad = network.gradient(x_batch, t_batch)\n",
    "    for key in ('W1', 'b1', 'W2', 'b2'):\n",
    "        network.params[key] -= learning_rate * grad[key]\n",
    "    \n",
    "    loss = network.loss(x_batch, t_batch)\n",
    "    train_loss_list.append(loss)\n",
    "    \n",
    "    if i % iter_per_epoch == 0:\n",
    "        train_acc = network.accuracy(train_x, train_y)\n",
    "        test_acc = network.accuracy(test_x, test_y)\n",
    "        train_acc_list.append(train_acc)\n",
    "        test_acc_list.append(test_acc)\n",
    "        print(\"train acc, test acc | \" + str(train_acc) + \", \" + str(test_acc))"
   ]
  },
  {
   "cell_type": "code",
   "execution_count": 40,
   "metadata": {},
   "outputs": [
    {
     "data": {
      "image/png": "[encoded data removed]",
      "text/plain": [
       "<Figure size 432x288 with 1 Axes>"
      ]
     },
     "metadata": {
      "needs_background": "light"
     },
     "output_type": "display_data"
    }
   ],
   "source": [
    "markers = {'train': 'o', 'test': 's'}\n",
    "x = np.arange(len(train_acc_list))\n",
    "plt.plot(x, train_acc_list, label='train acc')\n",
    "plt.plot(x, test_acc_list, label='test acc', linestyle='--')\n",
    "plt.xlabel(\"epochs\")\n",
    "plt.ylabel(\"accuracy\")\n",
    "plt.ylim(0, 1.0)\n",
    "plt.legend(loc='lower right')\n",
    "plt.show()"
   ]
  },
  {
   "cell_type": "code",
   "execution_count": null,
   "metadata": {},
   "outputs": [],
   "source": []
  }
 ],
 "metadata": {
  "interpreter": {
   "hash": "397704579725e15f5c7cb49fe5f0341eb7531c82d19f2c29d197e8b64ab5776b"
  },
  "kernelspec": {
   "display_name": "Python 3.9.9 64-bit",
   "language": "python",
   "name": "python3"
  },
  "language_info": {
   "codemirror_mode": {
    "name": "ipython",
    "version": 3
   },
   "file_extension": ".py",
   "mimetype": "text/x-python",
   "name": "python",
   "nbconvert_exporter": "python",
   "pygments_lexer": "ipython3",
   "version": "3.10.4"
  },
  "orig_nbformat": 4
 },
 "nbformat": 4,
 "nbformat_minor": 2
}
